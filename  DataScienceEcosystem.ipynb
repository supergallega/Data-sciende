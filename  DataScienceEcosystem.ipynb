{
 "cells": [
  {
   "cell_type": "markdown",
   "id": "81d59e2e-e1c7-4c2b-b79a-2b3bc2084248",
   "metadata": {},
   "source": [
    "Data Science Tools and Ecosystem"
   ]
  },
  {
   "cell_type": "markdown",
   "id": "c1117a56-1469-4f90-848d-3fc12006dd97",
   "metadata": {},
   "source": [
    "In this notebook, Data Science Tools and Ecosystem are summarized."
   ]
  },
  {
   "cell_type": "markdown",
   "id": "8d45a7b8-231d-4775-8cd4-f8d3a4f267c8",
   "metadata": {},
   "source": [
    "Some of the popular languages that Data Scientists use are: R, python, C"
   ]
  },
  {
   "cell_type": "markdown",
   "id": "d4ea40ce-2f57-4883-9311-2e74320a06d9",
   "metadata": {},
   "source": [
    "Some of the commonly used libraries used by Data Scientists include: NumPy, Matplotlib y\n",
    "Pandas."
   ]
  },
  {
   "cell_type": "markdown",
   "id": "dcf0fc60-bae2-4fe5-b92c-e4d396fdd1f2",
   "metadata": {},
   "source": [
    "| Data Science Tools |\n",
    "|--------------------|\n",
    "| Jupyter Notebook   |\n",
    "| RStudio            |\n",
    "| Apache Zeppelin    |\n"
   ]
  },
  {
   "cell_type": "code",
   "execution_count": null,
   "id": "a01b052d-46c3-45fa-b59e-98ee3b87b978",
   "metadata": {},
   "outputs": [],
   "source": [
    "### Below are a few examples of evaluating arithmetic expressions in Python.\n"
   ]
  },
  {
   "cell_type": "code",
   "execution_count": 1,
   "id": "52dda5ac-0cf9-4bfe-b9a7-34602c81f2c2",
   "metadata": {},
   "outputs": [
    {
     "data": {
      "text/plain": [
       "17"
      ]
     },
     "execution_count": 1,
     "metadata": {},
     "output_type": "execute_result"
    }
   ],
   "source": [
    "# This is a simple arithmetic expression to multiply then add integers\n",
    "(3 * 4) + 5\n"
   ]
  },
  {
   "cell_type": "code",
   "execution_count": 2,
   "id": "b5aad81e-c74b-4937-a910-bfee0cdeaf41",
   "metadata": {},
   "outputs": [
    {
     "data": {
      "text/plain": [
       "3.3333333333333335"
      ]
     },
     "execution_count": 2,
     "metadata": {},
     "output_type": "execute_result"
    }
   ],
   "source": [
    "# This will convert 200 minutes to hours by dividing by 60\n",
    "200 / 60"
   ]
  },
  {
   "cell_type": "markdown",
   "id": "c3f70cd4-b83f-4038-a38d-8ee42b92c108",
   "metadata": {},
   "source": [
    "**Objectives:**\n",
    "\n",
    "- List popular languages for Data Science  \n",
    "- Identify commonly used libraries in Data Science  \n",
    "- Describe open-source development tools for Data Science  \n",
    "- Perform basic arithmetic operations in Python  \n",
    "- Convert units of measure (e.g., minutes to hours)\n"
   ]
  },
  {
   "cell_type": "markdown",
   "id": "6e862d7b-a13b-4328-85b1-f0803f87d181",
   "metadata": {},
   "source": [
    "## Author\n",
    "Lucia Martinez\n"
   ]
  }
 ],
 "metadata": {
  "kernelspec": {
   "display_name": "Python [conda env:anaconda3]",
   "language": "python",
   "name": "conda-env-anaconda3-py"
  },
  "language_info": {
   "codemirror_mode": {
    "name": "ipython",
    "version": 3
   },
   "file_extension": ".py",
   "mimetype": "text/x-python",
   "name": "python",
   "nbconvert_exporter": "python",
   "pygments_lexer": "ipython3",
   "version": "3.13.5"
  }
 },
 "nbformat": 4,
 "nbformat_minor": 5
}
